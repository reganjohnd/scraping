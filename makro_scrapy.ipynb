{
 "cells": [
  {
   "cell_type": "code",
   "execution_count": 3,
   "metadata": {},
   "outputs": [],
   "source": [
    "import scrapy\n",
    "from scrapy.crawler import CrawlerProcess"
   ]
  },
  {
   "cell_type": "code",
   "execution_count": 11,
   "metadata": {},
   "outputs": [],
   "source": [
    "class MakroSpide(scrapy.Spider):\n",
    "    name = 'makro'\n",
    "    start_urls = ['https://www.makro.co.za/books/children-young-adult/young-adult/c/NAC?q=%3Arelevance&page=0']\n",
    "\n",
    "    def parse(self, response):\n",
    "        for products in response.css('mak-product-tiles-container__product-tile'):\n",
    "            yield {\n",
    "                'name': products.css('a.product-tile-inner__productTitle::text').get(),\n",
    "                'price': products.css('p.col-xs-12::text'.get()),\n",
    "            }"
   ]
  },
  {
   "cell_type": "code",
   "execution_count": 12,
   "metadata": {},
   "outputs": [
    {
     "name": "stderr",
     "output_type": "stream",
     "text": [
      "2022-06-22 18:00:32 [scrapy.utils.log] INFO: Scrapy 2.6.1 started (bot: scrapybot)\n",
      "2022-06-22 18:00:32 [scrapy.utils.log] INFO: Versions: lxml 4.9.0.0, libxml2 2.9.12, cssselect 1.1.0, parsel 1.6.0, w3lib 1.22.0, Twisted 22.4.0, Python 3.10.4 (tags/v3.10.4:9d38120, Mar 23 2022, 23:13:41) [MSC v.1929 64 bit (AMD64)], pyOpenSSL 22.0.0 (OpenSSL 3.0.3 3 May 2022), cryptography 37.0.2, Platform Windows-10-10.0.19041-SP0\n",
      "2022-06-22 18:00:32 [scrapy.crawler] INFO: Overridden settings:\n",
      "{}\n"
     ]
    },
    {
     "ename": "ReactorAlreadyInstalledError",
     "evalue": "reactor already installed",
     "output_type": "error",
     "traceback": [
      "\u001b[1;31m---------------------------------------------------------------------------\u001b[0m",
      "\u001b[1;31mReactorAlreadyInstalledError\u001b[0m              Traceback (most recent call last)",
      "\u001b[1;32mc:\\Users\\regan\\OneDrive - 22Seven Digital\\5-scripts\\Github\\scraping\\makro_scrapy.ipynb Cell 3'\u001b[0m in \u001b[0;36m<cell line: 2>\u001b[1;34m()\u001b[0m\n\u001b[0;32m      <a href='vscode-notebook-cell:/c%3A/Users/regan/OneDrive%20-%2022Seven%20Digital/5-scripts/Github/scraping/makro_scrapy.ipynb#ch0000003?line=0'>1</a>\u001b[0m process \u001b[39m=\u001b[39m CrawlerProcess()\n\u001b[1;32m----> <a href='vscode-notebook-cell:/c%3A/Users/regan/OneDrive%20-%2022Seven%20Digital/5-scripts/Github/scraping/makro_scrapy.ipynb#ch0000003?line=1'>2</a>\u001b[0m process\u001b[39m.\u001b[39;49mcrawl(MakroSpide)\n\u001b[0;32m      <a href='vscode-notebook-cell:/c%3A/Users/regan/OneDrive%20-%2022Seven%20Digital/5-scripts/Github/scraping/makro_scrapy.ipynb#ch0000003?line=2'>3</a>\u001b[0m process\u001b[39m.\u001b[39mstart()\n",
      "File \u001b[1;32mc:\\Python\\Python310\\lib\\site-packages\\scrapy\\crawler.py:205\u001b[0m, in \u001b[0;36mCrawlerRunner.crawl\u001b[1;34m(self, crawler_or_spidercls, *args, **kwargs)\u001b[0m\n\u001b[0;32m    201\u001b[0m \u001b[39mif\u001b[39;00m \u001b[39misinstance\u001b[39m(crawler_or_spidercls, Spider):\n\u001b[0;32m    202\u001b[0m     \u001b[39mraise\u001b[39;00m \u001b[39mValueError\u001b[39;00m(\n\u001b[0;32m    203\u001b[0m         \u001b[39m'\u001b[39m\u001b[39mThe crawler_or_spidercls argument cannot be a spider object, \u001b[39m\u001b[39m'\u001b[39m\n\u001b[0;32m    204\u001b[0m         \u001b[39m'\u001b[39m\u001b[39mit must be a spider class (or a Crawler object)\u001b[39m\u001b[39m'\u001b[39m)\n\u001b[1;32m--> 205\u001b[0m crawler \u001b[39m=\u001b[39m \u001b[39mself\u001b[39;49m\u001b[39m.\u001b[39;49mcreate_crawler(crawler_or_spidercls)\n\u001b[0;32m    206\u001b[0m \u001b[39mreturn\u001b[39;00m \u001b[39mself\u001b[39m\u001b[39m.\u001b[39m_crawl(crawler, \u001b[39m*\u001b[39margs, \u001b[39m*\u001b[39m\u001b[39m*\u001b[39mkwargs)\n",
      "File \u001b[1;32mc:\\Python\\Python310\\lib\\site-packages\\scrapy\\crawler.py:238\u001b[0m, in \u001b[0;36mCrawlerRunner.create_crawler\u001b[1;34m(self, crawler_or_spidercls)\u001b[0m\n\u001b[0;32m    236\u001b[0m \u001b[39mif\u001b[39;00m \u001b[39misinstance\u001b[39m(crawler_or_spidercls, Crawler):\n\u001b[0;32m    237\u001b[0m     \u001b[39mreturn\u001b[39;00m crawler_or_spidercls\n\u001b[1;32m--> 238\u001b[0m \u001b[39mreturn\u001b[39;00m \u001b[39mself\u001b[39;49m\u001b[39m.\u001b[39;49m_create_crawler(crawler_or_spidercls)\n",
      "File \u001b[1;32mc:\\Python\\Python310\\lib\\site-packages\\scrapy\\crawler.py:313\u001b[0m, in \u001b[0;36mCrawlerProcess._create_crawler\u001b[1;34m(self, spidercls)\u001b[0m\n\u001b[0;32m    311\u001b[0m \u001b[39mif\u001b[39;00m \u001b[39misinstance\u001b[39m(spidercls, \u001b[39mstr\u001b[39m):\n\u001b[0;32m    312\u001b[0m     spidercls \u001b[39m=\u001b[39m \u001b[39mself\u001b[39m\u001b[39m.\u001b[39mspider_loader\u001b[39m.\u001b[39mload(spidercls)\n\u001b[1;32m--> 313\u001b[0m \u001b[39mreturn\u001b[39;00m Crawler(spidercls, \u001b[39mself\u001b[39;49m\u001b[39m.\u001b[39;49msettings, init_reactor\u001b[39m=\u001b[39;49m\u001b[39mTrue\u001b[39;49;00m)\n",
      "File \u001b[1;32mc:\\Python\\Python310\\lib\\site-packages\\scrapy\\crawler.py:82\u001b[0m, in \u001b[0;36mCrawler.__init__\u001b[1;34m(self, spidercls, settings, init_reactor)\u001b[0m\n\u001b[0;32m     80\u001b[0m     \u001b[39melse\u001b[39;00m:\n\u001b[0;32m     81\u001b[0m         \u001b[39mfrom\u001b[39;00m \u001b[39mtwisted\u001b[39;00m\u001b[39m.\u001b[39;00m\u001b[39minternet\u001b[39;00m \u001b[39mimport\u001b[39;00m default\n\u001b[1;32m---> 82\u001b[0m         default\u001b[39m.\u001b[39;49minstall()\n\u001b[0;32m     83\u001b[0m     log_reactor_info()\n\u001b[0;32m     84\u001b[0m \u001b[39mif\u001b[39;00m reactor_class:\n",
      "File \u001b[1;32mc:\\Python\\Python310\\lib\\site-packages\\twisted\\internet\\selectreactor.py:194\u001b[0m, in \u001b[0;36minstall\u001b[1;34m()\u001b[0m\n\u001b[0;32m    191\u001b[0m reactor \u001b[39m=\u001b[39m SelectReactor()\n\u001b[0;32m    192\u001b[0m \u001b[39mfrom\u001b[39;00m \u001b[39mtwisted\u001b[39;00m\u001b[39m.\u001b[39;00m\u001b[39minternet\u001b[39;00m\u001b[39m.\u001b[39;00m\u001b[39mmain\u001b[39;00m \u001b[39mimport\u001b[39;00m installReactor\n\u001b[1;32m--> 194\u001b[0m installReactor(reactor)\n",
      "File \u001b[1;32mc:\\Python\\Python310\\lib\\site-packages\\twisted\\internet\\main.py:32\u001b[0m, in \u001b[0;36minstallReactor\u001b[1;34m(reactor)\u001b[0m\n\u001b[0;32m     29\u001b[0m \u001b[39mimport\u001b[39;00m \u001b[39mtwisted\u001b[39;00m\u001b[39m.\u001b[39;00m\u001b[39minternet\u001b[39;00m\n\u001b[0;32m     31\u001b[0m \u001b[39mif\u001b[39;00m \u001b[39m\"\u001b[39m\u001b[39mtwisted.internet.reactor\u001b[39m\u001b[39m\"\u001b[39m \u001b[39min\u001b[39;00m sys\u001b[39m.\u001b[39mmodules:\n\u001b[1;32m---> 32\u001b[0m     \u001b[39mraise\u001b[39;00m error\u001b[39m.\u001b[39mReactorAlreadyInstalledError(\u001b[39m\"\u001b[39m\u001b[39mreactor already installed\u001b[39m\u001b[39m\"\u001b[39m)\n\u001b[0;32m     33\u001b[0m twisted\u001b[39m.\u001b[39minternet\u001b[39m.\u001b[39mreactor \u001b[39m=\u001b[39m reactor\n\u001b[0;32m     34\u001b[0m sys\u001b[39m.\u001b[39mmodules[\u001b[39m\"\u001b[39m\u001b[39mtwisted.internet.reactor\u001b[39m\u001b[39m\"\u001b[39m] \u001b[39m=\u001b[39m reactor\n",
      "\u001b[1;31mReactorAlreadyInstalledError\u001b[0m: reactor already installed"
     ]
    }
   ],
   "source": [
    "process = CrawlerProcess()\n",
    "process.crawl(MakroSpide)\n",
    "process.start()\n"
   ]
  },
  {
   "cell_type": "code",
   "execution_count": 15,
   "metadata": {},
   "outputs": [
    {
     "ename": "AttributeError",
     "evalue": "'CrawlerProcess' object has no attribute 'complete'",
     "output_type": "error",
     "traceback": [
      "\u001b[1;31m---------------------------------------------------------------------------\u001b[0m",
      "\u001b[1;31mAttributeError\u001b[0m                            Traceback (most recent call last)",
      "\u001b[1;32mc:\\Users\\regan\\OneDrive - 22Seven Digital\\5-scripts\\Github\\scraping\\makro_scrapy.ipynb Cell 4'\u001b[0m in \u001b[0;36m<cell line: 1>\u001b[1;34m()\u001b[0m\n\u001b[1;32m----> <a href='vscode-notebook-cell:/c%3A/Users/regan/OneDrive%20-%2022Seven%20Digital/5-scripts/Github/scraping/makro_scrapy.ipynb#ch0000004?line=0'>1</a>\u001b[0m process\u001b[39m.\u001b[39;49mcomplete()\n",
      "\u001b[1;31mAttributeError\u001b[0m: 'CrawlerProcess' object has no attribute 'complete'"
     ]
    }
   ],
   "source": []
  },
  {
   "cell_type": "code",
   "execution_count": null,
   "metadata": {},
   "outputs": [],
   "source": []
  },
  {
   "cell_type": "code",
   "execution_count": null,
   "metadata": {},
   "outputs": [],
   "source": []
  },
  {
   "cell_type": "code",
   "execution_count": null,
   "metadata": {},
   "outputs": [],
   "source": []
  },
  {
   "cell_type": "code",
   "execution_count": null,
   "metadata": {},
   "outputs": [],
   "source": []
  },
  {
   "cell_type": "code",
   "execution_count": null,
   "metadata": {},
   "outputs": [],
   "source": []
  },
  {
   "cell_type": "code",
   "execution_count": null,
   "metadata": {},
   "outputs": [],
   "source": []
  },
  {
   "cell_type": "code",
   "execution_count": null,
   "metadata": {},
   "outputs": [],
   "source": []
  },
  {
   "cell_type": "code",
   "execution_count": null,
   "metadata": {},
   "outputs": [],
   "source": []
  },
  {
   "cell_type": "code",
   "execution_count": null,
   "metadata": {},
   "outputs": [],
   "source": []
  },
  {
   "cell_type": "code",
   "execution_count": null,
   "metadata": {},
   "outputs": [],
   "source": []
  }
 ],
 "metadata": {
  "kernelspec": {
   "display_name": "Python 3.10.4 64-bit",
   "language": "python",
   "name": "python3"
  },
  "language_info": {
   "codemirror_mode": {
    "name": "ipython",
    "version": 3
   },
   "file_extension": ".py",
   "mimetype": "text/x-python",
   "name": "python",
   "nbconvert_exporter": "python",
   "pygments_lexer": "ipython3",
   "version": "3.10.4"
  },
  "orig_nbformat": 4,
  "vscode": {
   "interpreter": {
    "hash": "d3e10ef16274dd72e574b8fa73b58450b957d8421a2901baded3cca26fcf5dda"
   }
  }
 },
 "nbformat": 4,
 "nbformat_minor": 2
}
