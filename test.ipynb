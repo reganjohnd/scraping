{
 "cells": [
  {
   "cell_type": "code",
   "execution_count": 3,
   "metadata": {},
   "outputs": [],
   "source": [
    "# import makro_urls as murls"
   ]
  },
  {
   "cell_type": "code",
   "execution_count": 43,
   "metadata": {},
   "outputs": [],
   "source": [
    "import scraping_helper_functions as shf\n",
    "\n",
    "import pandas as pd\n",
    "import requests\n",
    "import re\n",
    "from bs4 import *\n",
    "from datetime import date\n",
    "\n",
    "from tqdm import tqdm_notebook as tqdm\n",
    "\n",
    "def define_urls_makrocoza():\n",
    "    categories = pd.DataFrame(columns=['name', 'link'])\n",
    "    sub_categories = pd.DataFrame(columns=['category', 'name', 'link'])\n",
    "    sub_sub_categories = pd.DataFrame(columns=['category', 'sub_category', 'name', 'link'])\n",
    "\n",
    "    response = requests.get(f\"https://www.makro.co.za\")\n",
    "    html = response.text\n",
    "    soup = BeautifulSoup(html, 'lxml')\n",
    "\n",
    "    ### product and price\n",
    "    response = soup.find_all(\"a\", class_='mak-footer-v2__category-name')\n",
    "    names = [x.text.strip() for x in response]\n",
    "    links = [x['href'] for x in response]\n",
    "    categories = pd.DataFrame({'name':names, 'link':links})\n",
    "\n",
    "\n",
    "    for i in tqdm(range(0, len(categories))):\n",
    "        response = requests.get(f\"https://www.makro.co.za/{categories['link'][i]}\")\n",
    "        html = response.text\n",
    "        soup = BeautifulSoup(html, 'lxml')\n",
    "\n",
    "        response = soup.find_all(\"div\", class_='col-xs-6 col-sm-3 col-md-2 feature-image-text')\n",
    "\n",
    "        names = [x.text.strip() for x in response]\n",
    "        links = [x.a['href'] for x in response]\n",
    "        tmp = pd.DataFrame({'category':categories['name'][i], 'name':names, 'link':links})\n",
    "        sub_categories = pd.concat([sub_categories, tmp])\n",
    "\n",
    "    sub_categories = sub_categories.reset_index(inplace=False).iloc[:, 1:]\n",
    "\n",
    "    for i in tqdm(range(0, len(sub_categories))):\n",
    "        response = requests.get(f\"https://www.makro.co.za/{sub_categories['link'][i]}\")\n",
    "        html = response.text\n",
    "        soup = BeautifulSoup(html, 'lxml')\n",
    "\n",
    "        response = soup.find_all(\"div\", class_='col-xs-6 col-sm-3 col-md-2 feature-image-text')\n",
    "        names = [x.text.strip() for x in response]\n",
    "        links = [x.a['href'] for x in response]\n",
    "\n",
    "        tmp = pd.DataFrame({'category':shf.link_category(sub_categories, sub_categories['link'][i]), 'sub_category':sub_categories['name'][i], 'name':names, 'link':['https://www.makro.co.za' + link for link in links]})\n",
    "        sub_sub_categories = pd.concat([sub_sub_categories, tmp])\n",
    "\n",
    "\n",
    "    sub_sub_categories = sub_sub_categories.reset_index(inplace=False).iloc[:, 1:]\n",
    "    return sub_sub_categories['link']\n",
    "#scrape_extract(define_urls_makrocoza()).to_csv('C:\\\\Users\\\\regan\\\\OneDrive - 22Seven Digital\\\\5-scripts\\\\scraping_output.csv', index=False)\n",
    "\n",
    "def scrape_extract(urls):\n",
    "    mdf = pd.DataFrame(columns=['date', 'link', 'price', 'name', 'delivery', 'store'])\n",
    "    for url in urls:\n",
    "        response = requests.get(url)\n",
    "        html = response.text\n",
    "        soup = BeautifulSoup(html, 'lxml')\n",
    "        pattern = '\\d$'\n",
    "        try:\n",
    "            lastPage = int(re.search(pattern, soup.find('div', class_='mak-pagination-new').ul.text)[0])\n",
    "            print(f'last page: {lastPage}')\n",
    "            toggle = True\n",
    "        except:\n",
    "            lastPage = 1\n",
    "            toggle = False\n",
    "\n",
    "        for i in range(0, lastPage):\n",
    "            response = shf.paginationResponse(toggle, url, page=i)\n",
    "            print(f'response: {response}')\n",
    "            soup = BeautifulSoup(response.text, 'lxml')\n",
    "            print(soup)\n",
    "            ### product and price\n",
    "            result = soup.find_all('div', class_='mak-product-tiles-container__product-tile')\n",
    "            print(result)\n",
    "            \n",
    "            \n",
    "            priceList = [\"\".join(re.findall('\\d', x.find('p', class_='col-xs-12').text)) for x in result]\n",
    "            nameList = [x.find('a', class_='product-tile-inner__productTitle').span.text for x in result]\n",
    "\n",
    "            # extract in-store and delivery availability \n",
    "            storePattern = 'Store'\n",
    "            deliveryPattern = 'Delivery'\n",
    "            availability = [str(x.find_all('span', {'class' : 'fulfillment'})) for x in result]\n",
    "            storeAvailability = [shf.available(storePattern, x) for x in availability]\n",
    "            deliveryAvailability = [shf.available(deliveryPattern, x) for x in availability]\n",
    "\n",
    "            # extract product page link\n",
    "            link_list = ['www.makro.co.za' + x.find_all('a', class_='product-tile-inner__img', href=True)[0]['href'] for x in result]\n",
    "\n",
    "            # extract rating\n",
    "            # rating = [x.find_all('div', class_='bv_text') for x in result]\n",
    "\n",
    "            df = pd.DataFrame({'date':date.today(), 'link':link_list, 'price':priceList, 'name':nameList, 'delivery':deliveryAvailability, 'store':storeAvailability}).reset_index(inplace=True)        # print(mdf)\n",
    "        mdf = pd.concat([df, mdf])\n",
    "    return mdf.reset_index(inplace=False)"
   ]
  },
  {
   "cell_type": "code",
   "execution_count": 14,
   "metadata": {},
   "outputs": [
    {
     "name": "stderr",
     "output_type": "stream",
     "text": [
      "C:\\Users\\regan\\AppData\\Local\\Temp\\ipykernel_5092\\3321367794.py:27: TqdmDeprecationWarning: This function will be removed in tqdm==5.0.0\n",
      "Please use `tqdm.notebook.tqdm` instead of `tqdm.tqdm_notebook`\n",
      "  for i in tqdm(range(0, len(categories))):\n"
     ]
    },
    {
     "data": {
      "application/vnd.jupyter.widget-view+json": {
       "model_id": "66568304e15846569d674feb57739cdd",
       "version_major": 2,
       "version_minor": 0
      },
      "text/plain": [
       "  0%|          | 0/14 [00:00<?, ?it/s]"
      ]
     },
     "metadata": {},
     "output_type": "display_data"
    },
    {
     "name": "stderr",
     "output_type": "stream",
     "text": [
      "C:\\Users\\regan\\AppData\\Local\\Temp\\ipykernel_5092\\3321367794.py:41: TqdmDeprecationWarning: This function will be removed in tqdm==5.0.0\n",
      "Please use `tqdm.notebook.tqdm` instead of `tqdm.tqdm_notebook`\n",
      "  for i in tqdm(range(0, len(sub_categories))):\n"
     ]
    },
    {
     "data": {
      "application/vnd.jupyter.widget-view+json": {
       "model_id": "f58f182f4eee45b5a63d83e6674cd41a",
       "version_major": 2,
       "version_minor": 0
      },
      "text/plain": [
       "  0%|          | 0/102 [00:00<?, ?it/s]"
      ]
     },
     "metadata": {},
     "output_type": "display_data"
    }
   ],
   "source": [
    "input = define_urls_makrocoza()\n"
   ]
  },
  {
   "cell_type": "code",
   "execution_count": 46,
   "metadata": {},
   "outputs": [
    {
     "name": "stdout",
     "output_type": "stream",
     "text": [
      "f'https://www.makro.co.za/appliances/fridges-freezers/fridges/c/AA{0}'\n"
     ]
    }
   ],
   "source": [
    "tmp = f'{shf.isPagination(True, urls[0], 0)}'\n",
    "activeUrl = f\"f'{tmp}'\"\n",
    "print(activeUrl)\n",
    "# requests.get(eval(activeUrl))\n",
    "'https://www.makro.co.za/appliances/fridges-freezers/fridges/c/AAD?q=%3Arelevance&page=0'"
   ]
  },
  {
   "cell_type": "code",
   "execution_count": 56,
   "metadata": {},
   "outputs": [
    {
     "data": {
      "text/plain": [
       "'https://www.makro.co.za/appliances/fridges-freezers/fridges/c/AAD?q=%3Arelevance&page=0'"
      ]
     },
     "execution_count": 56,
     "metadata": {},
     "output_type": "execute_result"
    }
   ],
   "source": [
    "page = 0\n",
    "f'{url[:]}?q=%3Arelevance&page={page}'"
   ]
  },
  {
   "cell_type": "code",
   "execution_count": 51,
   "metadata": {},
   "outputs": [
    {
     "data": {
      "text/plain": [
       "'https://www.makro.co.za/appliances/fridges-freezers/wine-fridges/c/AAC'"
      ]
     },
     "execution_count": 51,
     "metadata": {},
     "output_type": "execute_result"
    }
   ],
   "source": [
    "urls[2]"
   ]
  },
  {
   "cell_type": "code",
   "execution_count": 29,
   "metadata": {},
   "outputs": [
    {
     "data": {
      "text/plain": [
       "'5'"
      ]
     },
     "execution_count": 29,
     "metadata": {},
     "output_type": "execute_result"
    }
   ],
   "source": [
    "\n",
    "response = requests.get(url)\n",
    "html = response.text\n",
    "soup = BeautifulSoup(html, 'lxml')\n",
    "pattern = '\\d$'\n",
    "\n",
    "lastPage = re.search(pattern, soup.find('div', class_='mak-pagination-new').ul.text)[0]\n",
    "lastPage\n",
    "#     toggle = True\n",
    "# except:\n",
    "#     lastPage = 1\n",
    "#     toggle = False\n",
    "\n",
    "# for i in range(0, lastPage):\n",
    "#     response = shf.paginationResponse(toggle, url, page=i)\n",
    "#     soup = BeautifulSoup(response.text, 'lxml')\n",
    "\n",
    "#     ### product and price\n",
    "#     result = soup.find_all('div', class_='mak-product-tiles-container__product-tile')\n",
    "    \n",
    "    \n",
    "#     priceList = [\"\".join(re.findall('\\d', x.find('p', class_='col-xs-12').text)) for x in result]\n",
    "#     nameList = [x.find('a', class_='product-tile-inner__productTitle').span.text for x in result]\n",
    "\n",
    "#     # extract in-store and delivery availability \n",
    "#     storePattern = 'Store'\n",
    "#     deliveryPattern = 'Delivery'\n",
    "#     availability = [str(x.find_all('span', {'class' : 'fulfillment'})) for x in result]\n",
    "#     storeAvailability = [shf.available(storePattern, x) for x in availability]\n",
    "#     deliveryAvailability = [shf.available(deliveryPattern, x) for x in availability]\n",
    "\n",
    "#     # extract product page link\n",
    "#     link_list = ['www.makro.co.za' + x.find_all('a', class_='product-tile-inner__img', href=True)[0]['href'] for x in result]\n",
    "\n",
    "#     # extract rating\n",
    "#     # rating = [x.find_all('div', class_='bv_text') for x in result]\n",
    "\n",
    "#     df = pd.DataFrame({'date':date.today(), 'link':link_list, 'price':priceList, 'name':nameList, 'delivery':deliveryAvailability, 'store':storeAvailability}).reset_index(inplace=True)        # print(mdf)\n",
    "# mdf = pd.concat([df, mdf])"
   ]
  },
  {
   "cell_type": "code",
   "execution_count": 21,
   "metadata": {},
   "outputs": [
    {
     "data": {
      "text/html": [
       "<div>\n",
       "<style scoped>\n",
       "    .dataframe tbody tr th:only-of-type {\n",
       "        vertical-align: middle;\n",
       "    }\n",
       "\n",
       "    .dataframe tbody tr th {\n",
       "        vertical-align: top;\n",
       "    }\n",
       "\n",
       "    .dataframe thead th {\n",
       "        text-align: right;\n",
       "    }\n",
       "</style>\n",
       "<table border=\"1\" class=\"dataframe\">\n",
       "  <thead>\n",
       "    <tr style=\"text-align: right;\">\n",
       "      <th></th>\n",
       "      <th>index</th>\n",
       "      <th>date</th>\n",
       "      <th>link</th>\n",
       "      <th>price</th>\n",
       "      <th>name</th>\n",
       "      <th>delivery</th>\n",
       "      <th>store</th>\n",
       "    </tr>\n",
       "  </thead>\n",
       "  <tbody>\n",
       "  </tbody>\n",
       "</table>\n",
       "</div>"
      ],
      "text/plain": [
       "Empty DataFrame\n",
       "Columns: [index, date, link, price, name, delivery, store]\n",
       "Index: []"
      ]
     },
     "execution_count": 21,
     "metadata": {},
     "output_type": "execute_result"
    }
   ],
   "source": [
    "output"
   ]
  }
 ],
 "metadata": {
  "kernelspec": {
   "display_name": "Python 3.10.4 64-bit",
   "language": "python",
   "name": "python3"
  },
  "language_info": {
   "codemirror_mode": {
    "name": "ipython",
    "version": 3
   },
   "file_extension": ".py",
   "mimetype": "text/x-python",
   "name": "python",
   "nbconvert_exporter": "python",
   "pygments_lexer": "ipython3",
   "version": "3.10.4"
  },
  "orig_nbformat": 4,
  "vscode": {
   "interpreter": {
    "hash": "d3e10ef16274dd72e574b8fa73b58450b957d8421a2901baded3cca26fcf5dda"
   }
  }
 },
 "nbformat": 4,
 "nbformat_minor": 2
}
