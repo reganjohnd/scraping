{
 "cells": [
  {
   "cell_type": "code",
   "execution_count": 1,
   "metadata": {},
   "outputs": [],
   "source": [
    "import makro_urls as murls"
   ]
  },
  {
   "cell_type": "code",
   "execution_count": 2,
   "metadata": {},
   "outputs": [
    {
     "data": {
      "application/vnd.jupyter.widget-view+json": {
       "model_id": "d130bded4d994c59b73af3ed0b78f61a",
       "version_major": 2,
       "version_minor": 0
      },
      "text/plain": [
       "  0%|          | 0/14 [00:00<?, ?it/s]"
      ]
     },
     "metadata": {},
     "output_type": "display_data"
    },
    {
     "data": {
      "application/vnd.jupyter.widget-view+json": {
       "model_id": "8c8c9956d16344c38231f087a77322e2",
       "version_major": 2,
       "version_minor": 0
      },
      "text/plain": [
       "  0%|          | 0/101 [00:00<?, ?it/s]"
      ]
     },
     "metadata": {},
     "output_type": "display_data"
    },
    {
     "ename": "AttributeError",
     "evalue": "'NoneType' object has no attribute 'reset_index'",
     "output_type": "error",
     "traceback": [
      "\u001b[1;31m---------------------------------------------------------------------------\u001b[0m",
      "\u001b[1;31mAttributeError\u001b[0m                            Traceback (most recent call last)",
      "\u001b[1;32mc:\\Users\\regan\\OneDrive - 22Seven Digital\\5-scripts\\Github\\scraping\\test.ipynb Cell 2\u001b[0m in \u001b[0;36m<cell line: 1>\u001b[1;34m()\u001b[0m\n\u001b[1;32m----> <a href='vscode-notebook-cell:/c%3A/Users/regan/OneDrive%20-%2022Seven%20Digital/5-scripts/Github/scraping/test.ipynb#ch0000001?line=0'>1</a>\u001b[0m output \u001b[39m=\u001b[39m murls\u001b[39m.\u001b[39mscrape_extract(murls\u001b[39m.\u001b[39;49mdefine_urls_makrocoza())\n",
      "File \u001b[1;32mc:\\Users\\regan\\OneDrive - 22Seven Digital\\5-scripts\\Github\\scraping\\makro_urls.py:54\u001b[0m, in \u001b[0;36mdefine_urls_makrocoza\u001b[1;34m()\u001b[0m\n\u001b[0;32m     50\u001b[0m     tmp \u001b[39m=\u001b[39m pd\u001b[39m.\u001b[39mDataFrame({\u001b[39m'\u001b[39m\u001b[39mcategory\u001b[39m\u001b[39m'\u001b[39m:shf\u001b[39m.\u001b[39mlink_category(sub_categories, sub_categories[\u001b[39m'\u001b[39m\u001b[39mlink\u001b[39m\u001b[39m'\u001b[39m][i]), \u001b[39m'\u001b[39m\u001b[39msub_category\u001b[39m\u001b[39m'\u001b[39m:sub_categories[\u001b[39m'\u001b[39m\u001b[39mname\u001b[39m\u001b[39m'\u001b[39m][i], \u001b[39m'\u001b[39m\u001b[39mname\u001b[39m\u001b[39m'\u001b[39m:names, \u001b[39m'\u001b[39m\u001b[39mlink\u001b[39m\u001b[39m'\u001b[39m:[\u001b[39m'\u001b[39m\u001b[39mhttps://www.makro.co.za\u001b[39m\u001b[39m'\u001b[39m \u001b[39m+\u001b[39m link \u001b[39mfor\u001b[39;00m link \u001b[39min\u001b[39;00m links]})\n\u001b[0;32m     51\u001b[0m     sub_sub_categories \u001b[39m=\u001b[39m pd\u001b[39m.\u001b[39mconcat([sub_sub_categories, tmp])\u001b[39m.\u001b[39mreset_index(inplace\u001b[39m=\u001b[39m\u001b[39mTrue\u001b[39;00m)\n\u001b[1;32m---> 54\u001b[0m sub_sub_categories \u001b[39m=\u001b[39m sub_sub_categories\u001b[39m.\u001b[39;49mreset_index(inplace\u001b[39m=\u001b[39m\u001b[39mFalse\u001b[39;00m)\u001b[39m.\u001b[39miloc[:, \u001b[39m1\u001b[39m:]\n\u001b[0;32m     55\u001b[0m \u001b[39mreturn\u001b[39;00m sub_sub_categories[\u001b[39m'\u001b[39m\u001b[39mlink\u001b[39m\u001b[39m'\u001b[39m]\n",
      "\u001b[1;31mAttributeError\u001b[0m: 'NoneType' object has no attribute 'reset_index'"
     ]
    }
   ],
   "source": [
    "output = murls.scrape_extract(murls.define_urls_makrocoza())"
   ]
  },
  {
   "cell_type": "code",
   "execution_count": null,
   "metadata": {},
   "outputs": [],
   "source": []
  },
  {
   "cell_type": "code",
   "execution_count": null,
   "metadata": {},
   "outputs": [],
   "source": []
  },
  {
   "cell_type": "code",
   "execution_count": null,
   "metadata": {},
   "outputs": [],
   "source": []
  }
 ],
 "metadata": {
  "kernelspec": {
   "display_name": "Python 3.10.4 64-bit",
   "language": "python",
   "name": "python3"
  },
  "language_info": {
   "codemirror_mode": {
    "name": "ipython",
    "version": 3
   },
   "file_extension": ".py",
   "mimetype": "text/x-python",
   "name": "python",
   "nbconvert_exporter": "python",
   "pygments_lexer": "ipython3",
   "version": "3.10.4"
  },
  "orig_nbformat": 4,
  "vscode": {
   "interpreter": {
    "hash": "d3e10ef16274dd72e574b8fa73b58450b957d8421a2901baded3cca26fcf5dda"
   }
  }
 },
 "nbformat": 4,
 "nbformat_minor": 2
}
