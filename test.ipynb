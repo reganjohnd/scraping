{
 "cells": [
  {
   "cell_type": "code",
   "execution_count": 3,
   "metadata": {},
   "outputs": [],
   "source": [
    "import scraping_helper_functions as shf\n",
    "import scrape_urls as surls\n",
    "import makro_urls as murls\n",
    "\n",
    "from bs4 import *\n",
    "\n",
    "from tqdm import tqdm_notebook as tqdm\n"
   ]
  },
  {
   "cell_type": "code",
   "execution_count": 4,
   "metadata": {},
   "outputs": [
    {
     "data": {
      "application/vnd.jupyter.widget-view+json": {
       "model_id": "661d81d64c4f49b684ccda47e77dd47e",
       "version_major": 2,
       "version_minor": 0
      },
      "text/plain": [
       "  0%|          | 0/14 [00:00<?, ?it/s]"
      ]
     },
     "metadata": {},
     "output_type": "display_data"
    },
    {
     "data": {
      "application/vnd.jupyter.widget-view+json": {
       "model_id": "e2192e939f884defb1a4167a0e2cc952",
       "version_major": 2,
       "version_minor": 0
      },
      "text/plain": [
       "  0%|          | 0/101 [00:00<?, ?it/s]"
      ]
     },
     "metadata": {},
     "output_type": "display_data"
    },
    {
     "ename": "NameError",
     "evalue": "name 'requests' is not defined",
     "output_type": "error",
     "traceback": [
      "\u001b[1;31m---------------------------------------------------------------------------\u001b[0m",
      "\u001b[1;31mNameError\u001b[0m                                 Traceback (most recent call last)",
      "\u001b[1;32mc:\\Users\\regan\\OneDrive - 22Seven Digital\\5-scripts\\Github\\scraping\\test.ipynb Cell 2\u001b[0m in \u001b[0;36m<cell line: 1>\u001b[1;34m()\u001b[0m\n\u001b[1;32m----> <a href='vscode-notebook-cell:/c%3A/Users/regan/OneDrive%20-%2022Seven%20Digital/5-scripts/Github/scraping/test.ipynb#ch0000002?line=0'>1</a>\u001b[0m output \u001b[39m=\u001b[39m murls\u001b[39m.\u001b[39;49mscrape_extract(murls\u001b[39m.\u001b[39;49mdefine_urls_makrocoza())\n",
      "File \u001b[1;32mc:\\Users\\regan\\OneDrive - 22Seven Digital\\5-scripts\\Github\\scraping\\makro_urls.py:71\u001b[0m, in \u001b[0;36mscrape_extract\u001b[1;34m(urls)\u001b[0m\n\u001b[0;32m     68\u001b[0m     toggle \u001b[39m=\u001b[39m \u001b[39mFalse\u001b[39;00m\n\u001b[0;32m     70\u001b[0m \u001b[39mfor\u001b[39;00m i \u001b[39min\u001b[39;00m \u001b[39mrange\u001b[39m(\u001b[39m0\u001b[39m, lastPage):\n\u001b[1;32m---> 71\u001b[0m     response \u001b[39m=\u001b[39m shf\u001b[39m.\u001b[39;49mpaginationResponse(toggle, url, page\u001b[39m=\u001b[39;49mi)\n\u001b[0;32m     72\u001b[0m     soup \u001b[39m=\u001b[39m BeautifulSoup(response\u001b[39m.\u001b[39mtext, \u001b[39m'\u001b[39m\u001b[39mlxml\u001b[39m\u001b[39m'\u001b[39m)\n\u001b[0;32m     74\u001b[0m     \u001b[39m### product and price\u001b[39;00m\n",
      "File \u001b[1;32mc:\\Users\\regan\\OneDrive - 22Seven Digital\\5-scripts\\Github\\scraping\\scraping_helper_functions.py:19\u001b[0m, in \u001b[0;36mpaginationResponse\u001b[1;34m(toggle, url, page)\u001b[0m\n\u001b[0;32m     17\u001b[0m     \u001b[39mreturn\u001b[39;00m requests\u001b[39m.\u001b[39mget(\u001b[39meval\u001b[39m(activeUrl))\n\u001b[0;32m     18\u001b[0m \u001b[39mif\u001b[39;00m \u001b[39mnot\u001b[39;00m toggle:\n\u001b[1;32m---> 19\u001b[0m     \u001b[39mreturn\u001b[39;00m requests\u001b[39m.\u001b[39mget(url)\n",
      "\u001b[1;31mNameError\u001b[0m: name 'requests' is not defined"
     ]
    }
   ],
   "source": [
    "output = murls.scrape_extract(murls.define_urls_makrocoza())"
   ]
  },
  {
   "cell_type": "code",
   "execution_count": null,
   "metadata": {},
   "outputs": [],
   "source": []
  },
  {
   "cell_type": "code",
   "execution_count": null,
   "metadata": {},
   "outputs": [],
   "source": []
  },
  {
   "cell_type": "code",
   "execution_count": null,
   "metadata": {},
   "outputs": [],
   "source": []
  }
 ],
 "metadata": {
  "kernelspec": {
   "display_name": "Python 3.10.4 64-bit",
   "language": "python",
   "name": "python3"
  },
  "language_info": {
   "codemirror_mode": {
    "name": "ipython",
    "version": 3
   },
   "file_extension": ".py",
   "mimetype": "text/x-python",
   "name": "python",
   "nbconvert_exporter": "python",
   "pygments_lexer": "ipython3",
   "version": "3.10.4"
  },
  "orig_nbformat": 4,
  "vscode": {
   "interpreter": {
    "hash": "d3e10ef16274dd72e574b8fa73b58450b957d8421a2901baded3cca26fcf5dda"
   }
  }
 },
 "nbformat": 4,
 "nbformat_minor": 2
}
