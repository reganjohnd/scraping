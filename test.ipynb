{
 "cells": [
  {
   "cell_type": "code",
   "execution_count": 1,
   "metadata": {},
   "outputs": [],
   "source": [
    "import makro_urls as murls"
   ]
  },
  {
   "cell_type": "code",
   "execution_count": 2,
   "metadata": {},
   "outputs": [
    {
     "data": {
      "application/vnd.jupyter.widget-view+json": {
       "model_id": "bae035390adf4cc7af0e81d1e56c9132",
       "version_major": 2,
       "version_minor": 0
      },
      "text/plain": [
       "  0%|          | 0/14 [00:00<?, ?it/s]"
      ]
     },
     "metadata": {},
     "output_type": "display_data"
    },
    {
     "data": {
      "application/vnd.jupyter.widget-view+json": {
       "model_id": "da9764cb6e3a40c987f7222280d577b9",
       "version_major": 2,
       "version_minor": 0
      },
      "text/plain": [
       "  0%|          | 0/101 [00:00<?, ?it/s]"
      ]
     },
     "metadata": {},
     "output_type": "display_data"
    },
    {
     "ename": "ValueError",
     "evalue": "cannot insert level_0, already exists",
     "output_type": "error",
     "traceback": [
      "\u001b[1;31m---------------------------------------------------------------------------\u001b[0m",
      "\u001b[1;31mValueError\u001b[0m                                Traceback (most recent call last)",
      "\u001b[1;32mc:\\Users\\regan\\OneDrive - 22Seven Digital\\5-scripts\\Github\\scraping\\test.ipynb Cell 2\u001b[0m in \u001b[0;36m<cell line: 1>\u001b[1;34m()\u001b[0m\n\u001b[1;32m----> <a href='vscode-notebook-cell:/c%3A/Users/regan/OneDrive%20-%2022Seven%20Digital/5-scripts/Github/scraping/test.ipynb#ch0000001?line=0'>1</a>\u001b[0m output \u001b[39m=\u001b[39m murls\u001b[39m.\u001b[39;49mscrape_extract(murls\u001b[39m.\u001b[39;49mdefine_urls_makrocoza())\n",
      "File \u001b[1;32mc:\\Users\\regan\\OneDrive - 22Seven Digital\\5-scripts\\Github\\scraping\\makro_urls.py:97\u001b[0m, in \u001b[0;36mscrape_extract\u001b[1;34m(urls)\u001b[0m\n\u001b[0;32m     93\u001b[0m         \u001b[39m# extract rating\u001b[39;00m\n\u001b[0;32m     94\u001b[0m         \u001b[39m# rating = [x.find_all('div', class_='bv_text') for x in result]\u001b[39;00m\n\u001b[0;32m     96\u001b[0m         df \u001b[39m=\u001b[39m pd\u001b[39m.\u001b[39mDataFrame({\u001b[39m'\u001b[39m\u001b[39mdate\u001b[39m\u001b[39m'\u001b[39m:date\u001b[39m.\u001b[39mtoday(), \u001b[39m'\u001b[39m\u001b[39mlink\u001b[39m\u001b[39m'\u001b[39m:link_list, \u001b[39m'\u001b[39m\u001b[39mprice\u001b[39m\u001b[39m'\u001b[39m:priceList, \u001b[39m'\u001b[39m\u001b[39mname\u001b[39m\u001b[39m'\u001b[39m:nameList, \u001b[39m'\u001b[39m\u001b[39mdelivery\u001b[39m\u001b[39m'\u001b[39m:deliveryAvailability, \u001b[39m'\u001b[39m\u001b[39mstore\u001b[39m\u001b[39m'\u001b[39m:storeAvailability})        \u001b[39m# print(mdf)\u001b[39;00m\n\u001b[1;32m---> 97\u001b[0m     mdf \u001b[39m=\u001b[39m pd\u001b[39m.\u001b[39;49mconcat([df, mdf])\u001b[39m.\u001b[39;49mreset_index(inplace\u001b[39m=\u001b[39;49m\u001b[39mFalse\u001b[39;49;00m)\n\u001b[0;32m     98\u001b[0m \u001b[39mreturn\u001b[39;00m mdf\n",
      "File \u001b[1;32mc:\\Python\\Python310\\lib\\site-packages\\pandas\\util\\_decorators.py:311\u001b[0m, in \u001b[0;36mdeprecate_nonkeyword_arguments.<locals>.decorate.<locals>.wrapper\u001b[1;34m(*args, **kwargs)\u001b[0m\n\u001b[0;32m    305\u001b[0m \u001b[39mif\u001b[39;00m \u001b[39mlen\u001b[39m(args) \u001b[39m>\u001b[39m num_allow_args:\n\u001b[0;32m    306\u001b[0m     warnings\u001b[39m.\u001b[39mwarn(\n\u001b[0;32m    307\u001b[0m         msg\u001b[39m.\u001b[39mformat(arguments\u001b[39m=\u001b[39marguments),\n\u001b[0;32m    308\u001b[0m         \u001b[39mFutureWarning\u001b[39;00m,\n\u001b[0;32m    309\u001b[0m         stacklevel\u001b[39m=\u001b[39mstacklevel,\n\u001b[0;32m    310\u001b[0m     )\n\u001b[1;32m--> 311\u001b[0m \u001b[39mreturn\u001b[39;00m func(\u001b[39m*\u001b[39margs, \u001b[39m*\u001b[39m\u001b[39m*\u001b[39mkwargs)\n",
      "File \u001b[1;32mc:\\Python\\Python310\\lib\\site-packages\\pandas\\core\\frame.py:5839\u001b[0m, in \u001b[0;36mDataFrame.reset_index\u001b[1;34m(self, level, drop, inplace, col_level, col_fill)\u001b[0m\n\u001b[0;32m   5833\u001b[0m         \u001b[39mif\u001b[39;00m lab \u001b[39mis\u001b[39;00m \u001b[39mnot\u001b[39;00m \u001b[39mNone\u001b[39;00m:\n\u001b[0;32m   5834\u001b[0m             \u001b[39m# if we have the codes, extract the values with a mask\u001b[39;00m\n\u001b[0;32m   5835\u001b[0m             level_values \u001b[39m=\u001b[39m algorithms\u001b[39m.\u001b[39mtake(\n\u001b[0;32m   5836\u001b[0m                 level_values, lab, allow_fill\u001b[39m=\u001b[39m\u001b[39mTrue\u001b[39;00m, fill_value\u001b[39m=\u001b[39mlev\u001b[39m.\u001b[39m_na_value\n\u001b[0;32m   5837\u001b[0m             )\n\u001b[1;32m-> 5839\u001b[0m         new_obj\u001b[39m.\u001b[39;49minsert(\u001b[39m0\u001b[39;49m, name, level_values)\n\u001b[0;32m   5841\u001b[0m new_obj\u001b[39m.\u001b[39mindex \u001b[39m=\u001b[39m new_index\n\u001b[0;32m   5842\u001b[0m \u001b[39mif\u001b[39;00m \u001b[39mnot\u001b[39;00m inplace:\n",
      "File \u001b[1;32mc:\\Python\\Python310\\lib\\site-packages\\pandas\\core\\frame.py:4440\u001b[0m, in \u001b[0;36mDataFrame.insert\u001b[1;34m(self, loc, column, value, allow_duplicates)\u001b[0m\n\u001b[0;32m   4434\u001b[0m     \u001b[39mraise\u001b[39;00m \u001b[39mValueError\u001b[39;00m(\n\u001b[0;32m   4435\u001b[0m         \u001b[39m\"\u001b[39m\u001b[39mCannot specify \u001b[39m\u001b[39m'\u001b[39m\u001b[39mallow_duplicates=True\u001b[39m\u001b[39m'\u001b[39m\u001b[39m when \u001b[39m\u001b[39m\"\u001b[39m\n\u001b[0;32m   4436\u001b[0m         \u001b[39m\"\u001b[39m\u001b[39m'\u001b[39m\u001b[39mself.flags.allows_duplicate_labels\u001b[39m\u001b[39m'\u001b[39m\u001b[39m is False.\u001b[39m\u001b[39m\"\u001b[39m\n\u001b[0;32m   4437\u001b[0m     )\n\u001b[0;32m   4438\u001b[0m \u001b[39mif\u001b[39;00m \u001b[39mnot\u001b[39;00m allow_duplicates \u001b[39mand\u001b[39;00m column \u001b[39min\u001b[39;00m \u001b[39mself\u001b[39m\u001b[39m.\u001b[39mcolumns:\n\u001b[0;32m   4439\u001b[0m     \u001b[39m# Should this be a different kind of error??\u001b[39;00m\n\u001b[1;32m-> 4440\u001b[0m     \u001b[39mraise\u001b[39;00m \u001b[39mValueError\u001b[39;00m(\u001b[39mf\u001b[39m\u001b[39m\"\u001b[39m\u001b[39mcannot insert \u001b[39m\u001b[39m{\u001b[39;00mcolumn\u001b[39m}\u001b[39;00m\u001b[39m, already exists\u001b[39m\u001b[39m\"\u001b[39m)\n\u001b[0;32m   4441\u001b[0m \u001b[39mif\u001b[39;00m \u001b[39mnot\u001b[39;00m \u001b[39misinstance\u001b[39m(loc, \u001b[39mint\u001b[39m):\n\u001b[0;32m   4442\u001b[0m     \u001b[39mraise\u001b[39;00m \u001b[39mTypeError\u001b[39;00m(\u001b[39m\"\u001b[39m\u001b[39mloc must be int\u001b[39m\u001b[39m\"\u001b[39m)\n",
      "\u001b[1;31mValueError\u001b[0m: cannot insert level_0, already exists"
     ]
    }
   ],
   "source": [
    "output = murls.scrape_extract(murls.define_urls_makrocoza())"
   ]
  },
  {
   "cell_type": "code",
   "execution_count": null,
   "metadata": {},
   "outputs": [],
   "source": []
  },
  {
   "cell_type": "code",
   "execution_count": null,
   "metadata": {},
   "outputs": [],
   "source": []
  },
  {
   "cell_type": "code",
   "execution_count": null,
   "metadata": {},
   "outputs": [],
   "source": []
  }
 ],
 "metadata": {
  "kernelspec": {
   "display_name": "Python 3.10.4 64-bit",
   "language": "python",
   "name": "python3"
  },
  "language_info": {
   "codemirror_mode": {
    "name": "ipython",
    "version": 3
   },
   "file_extension": ".py",
   "mimetype": "text/x-python",
   "name": "python",
   "nbconvert_exporter": "python",
   "pygments_lexer": "ipython3",
   "version": "3.10.4"
  },
  "orig_nbformat": 4,
  "vscode": {
   "interpreter": {
    "hash": "d3e10ef16274dd72e574b8fa73b58450b957d8421a2901baded3cca26fcf5dda"
   }
  }
 },
 "nbformat": 4,
 "nbformat_minor": 2
}
