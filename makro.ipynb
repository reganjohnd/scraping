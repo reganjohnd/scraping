{
 "cells": [
  {
   "cell_type": "code",
   "execution_count": 36,
   "metadata": {},
   "outputs": [],
   "source": [
    "#test scrape\n",
    "import json\n",
    "import re\n",
    "import requests\n",
    "from bs4 import *\n",
    "import time\n",
    "import pandas as pd"
   ]
  },
  {
   "cell_type": "code",
   "execution_count": 81,
   "metadata": {},
   "outputs": [
    {
     "data": {
      "text/html": [
       "<div>\n",
       "<style scoped>\n",
       "    .dataframe tbody tr th:only-of-type {\n",
       "        vertical-align: middle;\n",
       "    }\n",
       "\n",
       "    .dataframe tbody tr th {\n",
       "        vertical-align: top;\n",
       "    }\n",
       "\n",
       "    .dataframe thead th {\n",
       "        text-align: right;\n",
       "    }\n",
       "</style>\n",
       "<table border=\"1\" class=\"dataframe\">\n",
       "  <thead>\n",
       "    <tr style=\"text-align: right;\">\n",
       "      <th></th>\n",
       "      <th>price</th>\n",
       "      <th>name</th>\n",
       "    </tr>\n",
       "  </thead>\n",
       "  <tbody>\n",
       "    <tr>\n",
       "      <th>0</th>\n",
       "      <td>R 7595</td>\n",
       "      <td>Safari Braaipap (1 x 10kg)</td>\n",
       "    </tr>\n",
       "    <tr>\n",
       "      <th>1</th>\n",
       "      <td>R 3195</td>\n",
       "      <td>Allsome Parboiled Rice (2kg)</td>\n",
       "    </tr>\n",
       "    <tr>\n",
       "      <th>2</th>\n",
       "      <td>R 1995</td>\n",
       "      <td>Osmans Tajmahal Pea Dholl (1 x 1kg)</td>\n",
       "    </tr>\n",
       "    <tr>\n",
       "      <th>3</th>\n",
       "      <td>R 11100</td>\n",
       "      <td>Allsome Parboiled Rice (1 x 10kg)</td>\n",
       "    </tr>\n",
       "    <tr>\n",
       "      <th>4</th>\n",
       "      <td>R 5696</td>\n",
       "      <td>Champion Samp (1 x 5kg)</td>\n",
       "    </tr>\n",
       "    <tr>\n",
       "      <th>...</th>\n",
       "      <td>...</td>\n",
       "      <td>...</td>\n",
       "    </tr>\n",
       "    <tr>\n",
       "      <th>15</th>\n",
       "      <td>R 3295</td>\n",
       "      <td>Iwisa Maize Rice (1 x 2.5kg)</td>\n",
       "    </tr>\n",
       "    <tr>\n",
       "      <th>16</th>\n",
       "      <td>R 7195</td>\n",
       "      <td>First Value Samp (1 x 10kg)</td>\n",
       "    </tr>\n",
       "    <tr>\n",
       "      <th>17</th>\n",
       "      <td>R 37695</td>\n",
       "      <td>First Value Sugar Beans (1 x 10kg)</td>\n",
       "    </tr>\n",
       "    <tr>\n",
       "      <th>18</th>\n",
       "      <td>R 1465</td>\n",
       "      <td>Royco Packet Marinade Beef (1 x 40g)</td>\n",
       "    </tr>\n",
       "    <tr>\n",
       "      <th>19</th>\n",
       "      <td>R 1465</td>\n",
       "      <td>Royco Packet Marinade Chicken (1 x 40g)</td>\n",
       "    </tr>\n",
       "  </tbody>\n",
       "</table>\n",
       "<p>320 rows × 2 columns</p>\n",
       "</div>"
      ],
      "text/plain": [
       "       price                                      name\n",
       "0     R 7595                Safari Braaipap (1 x 10kg)\n",
       "1     R 3195              Allsome Parboiled Rice (2kg)\n",
       "2     R 1995       Osmans Tajmahal Pea Dholl (1 x 1kg)\n",
       "3    R 11100         Allsome Parboiled Rice (1 x 10kg)\n",
       "4     R 5696                   Champion Samp (1 x 5kg)\n",
       "..       ...                                       ...\n",
       "15    R 3295              Iwisa Maize Rice (1 x 2.5kg)\n",
       "16    R 7195               First Value Samp (1 x 10kg)\n",
       "17   R 37695        First Value Sugar Beans (1 x 10kg)\n",
       "18    R 1465      Royco Packet Marinade Beef (1 x 40g)\n",
       "19    R 1465   Royco Packet Marinade Chicken (1 x 40g)\n",
       "\n",
       "[320 rows x 2 columns]"
      ]
     },
     "execution_count": 81,
     "metadata": {},
     "output_type": "execute_result"
    }
   ],
   "source": [
    "mdf = pd.DataFrame(columns=['price', 'name'])\n",
    "\n",
    "response = requests.get(\"https://www.makro.co.za/food/cooking/grains-rice-pasta/c/ICB?pageSize=20&q=%3Arelevance&page=0\")\n",
    "html = response.text\n",
    "soup = BeautifulSoup(html, 'lxml')\n",
    "pattern = '.\\d$'\n",
    "lastPage = int(re.search(pattern, soup.find('div', class_='mak-pagination-new').ul.text)[0]) - 1\n",
    "\n",
    "for i in range(0, lastPage):\n",
    "    response = requests.get(f\"https://www.makro.co.za/food/cooking/grains-rice-pasta/c/ICB?pageSize=20&q=%3Arelevance&page={i}\")\n",
    "    html = response.text\n",
    "    soup = BeautifulSoup(html, 'lxml')\n",
    "\n",
    "    ### product and price\n",
    "    result = soup.find_all('div', class_='mak-product-tiles-container__product-tile')\n",
    "    price = result[0].find('p', class_='col-xs-12').text\n",
    "    # print(price)\n",
    "    name = result[0].find('a', class_='product-tile-inner__productTitle').span.text\n",
    "    # print(name)\n",
    "\n",
    "    priceList = [i.find('p', class_='col-xs-12').text for i in result]\n",
    "    nameList = [i.find('a', class_='product-tile-inner__productTitle').span.text for i in result]\n",
    "\n",
    "    df = pd.DataFrame({'price':priceList, 'name':nameList})\n",
    "    mdf = pd.concat([df, mdf])\n",
    "\n",
    "mdf\n",
    "# product_names = [i.span.text for i in products]\n",
    "# print(product_names)\n"
   ]
  },
  {
   "cell_type": "code",
   "execution_count": null,
   "metadata": {},
   "outputs": [],
   "source": []
  },
  {
   "cell_type": "code",
   "execution_count": null,
   "metadata": {},
   "outputs": [],
   "source": []
  },
  {
   "cell_type": "code",
   "execution_count": null,
   "metadata": {},
   "outputs": [],
   "source": []
  },
  {
   "cell_type": "code",
   "execution_count": null,
   "metadata": {},
   "outputs": [],
   "source": []
  },
  {
   "cell_type": "code",
   "execution_count": null,
   "metadata": {},
   "outputs": [],
   "source": []
  },
  {
   "cell_type": "code",
   "execution_count": null,
   "metadata": {},
   "outputs": [],
   "source": []
  },
  {
   "cell_type": "code",
   "execution_count": null,
   "metadata": {},
   "outputs": [],
   "source": []
  },
  {
   "cell_type": "code",
   "execution_count": null,
   "metadata": {},
   "outputs": [],
   "source": []
  },
  {
   "cell_type": "code",
   "execution_count": null,
   "metadata": {},
   "outputs": [],
   "source": []
  },
  {
   "cell_type": "code",
   "execution_count": null,
   "metadata": {},
   "outputs": [],
   "source": []
  },
  {
   "cell_type": "code",
   "execution_count": null,
   "metadata": {},
   "outputs": [],
   "source": []
  },
  {
   "cell_type": "code",
   "execution_count": null,
   "metadata": {},
   "outputs": [],
   "source": []
  },
  {
   "cell_type": "code",
   "execution_count": null,
   "metadata": {},
   "outputs": [],
   "source": []
  },
  {
   "cell_type": "code",
   "execution_count": null,
   "metadata": {},
   "outputs": [],
   "source": []
  },
  {
   "cell_type": "code",
   "execution_count": null,
   "metadata": {},
   "outputs": [],
   "source": []
  },
  {
   "cell_type": "code",
   "execution_count": null,
   "metadata": {},
   "outputs": [],
   "source": []
  },
  {
   "cell_type": "code",
   "execution_count": null,
   "metadata": {},
   "outputs": [],
   "source": []
  },
  {
   "cell_type": "code",
   "execution_count": null,
   "metadata": {},
   "outputs": [],
   "source": []
  },
  {
   "cell_type": "code",
   "execution_count": null,
   "metadata": {},
   "outputs": [],
   "source": []
  },
  {
   "cell_type": "code",
   "execution_count": null,
   "metadata": {},
   "outputs": [],
   "source": []
  },
  {
   "cell_type": "code",
   "execution_count": null,
   "metadata": {},
   "outputs": [],
   "source": []
  },
  {
   "cell_type": "code",
   "execution_count": null,
   "metadata": {},
   "outputs": [],
   "source": []
  },
  {
   "cell_type": "code",
   "execution_count": null,
   "metadata": {},
   "outputs": [],
   "source": []
  }
 ],
 "metadata": {
  "kernelspec": {
   "display_name": "Python 3.10.4 64-bit",
   "language": "python",
   "name": "python3"
  },
  "language_info": {
   "codemirror_mode": {
    "name": "ipython",
    "version": 3
   },
   "file_extension": ".py",
   "mimetype": "text/x-python",
   "name": "python",
   "nbconvert_exporter": "python",
   "pygments_lexer": "ipython3",
   "version": "3.10.4"
  },
  "orig_nbformat": 4,
  "vscode": {
   "interpreter": {
    "hash": "d3e10ef16274dd72e574b8fa73b58450b957d8421a2901baded3cca26fcf5dda"
   }
  }
 },
 "nbformat": 4,
 "nbformat_minor": 2
}
